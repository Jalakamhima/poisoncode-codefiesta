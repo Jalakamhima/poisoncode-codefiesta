{
  "nbformat": 4,
  "nbformat_minor": 0,
  "metadata": {
    "colab": {
      "name": "new _problem.ipynb",
      "provenance": [],
      "authorship_tag": "ABX9TyMG3Ck5bQC4ruV5iFywtBh3",
      "include_colab_link": true
    },
    "kernelspec": {
      "name": "python3",
      "display_name": "Python 3"
    },
    "language_info": {
      "name": "python"
    }
  },
  "cells": [
    {
      "cell_type": "markdown",
      "metadata": {
        "id": "view-in-github",
        "colab_type": "text"
      },
      "source": [
        "<a href=\"https://colab.research.google.com/github/Jalakamhima/poisoncode-codefiesta/blob/main/new__problem.ipynb\" target=\"_parent\"><img src=\"https://colab.research.google.com/assets/colab-badge.svg\" alt=\"Open In Colab\"/></a>"
      ]
    },
    {
      "cell_type": "code",
      "execution_count": 6,
      "metadata": {
        "colab": {
          "base_uri": "https://localhost:8080/"
        },
        "id": "c0sl9ApKzAGs",
        "outputId": "824a7b4b-8f67-4009-f719-1b4cde611d0a"
      },
      "outputs": [
        {
          "output_type": "stream",
          "name": "stdout",
          "text": [
            "Looking in indexes: https://pypi.org/simple, https://us-python.pkg.dev/colab-wheels/public/simple/\n",
            "Collecting pdfminer3\n",
            "  Downloading pdfminer3-2018.12.3.0.tar.gz (5.0 MB)\n",
            "\u001b[K     |████████████████████████████████| 5.0 MB 14.3 MB/s \n",
            "\u001b[?25hCollecting pycryptodome\n",
            "  Downloading pycryptodome-3.15.0-cp35-abi3-manylinux2010_x86_64.whl (2.3 MB)\n",
            "\u001b[K     |████████████████████████████████| 2.3 MB 44.0 MB/s \n",
            "\u001b[?25hRequirement already satisfied: sortedcontainers in /usr/local/lib/python3.7/dist-packages (from pdfminer3) (2.4.0)\n",
            "Requirement already satisfied: chardet in /usr/local/lib/python3.7/dist-packages (from pdfminer3) (3.0.4)\n",
            "Building wheels for collected packages: pdfminer3\n",
            "  Building wheel for pdfminer3 (setup.py) ... \u001b[?25l\u001b[?25hdone\n",
            "  Created wheel for pdfminer3: filename=pdfminer3-2018.12.3.0-py3-none-any.whl size=117822 sha256=b28ba1ca65ebc1825919c40e6c736d119dfc3f990fbc08f5aef90b85c2ca7127\n",
            "  Stored in directory: /root/.cache/pip/wheels/f6/1b/21/339d1825e274c4a9829233a986f93dcedb98913f98e85b2916\n",
            "Successfully built pdfminer3\n",
            "Installing collected packages: pycryptodome, pdfminer3\n",
            "Successfully installed pdfminer3-2018.12.3.0 pycryptodome-3.15.0\n",
            "Looking in indexes: https://pypi.org/simple, https://us-python.pkg.dev/colab-wheels/public/simple/\n",
            "Collecting deep_translator\n",
            "  Downloading deep_translator-1.8.3-py3-none-any.whl (29 kB)\n",
            "Collecting beautifulsoup4<5.0.0,>=4.9.1\n",
            "  Downloading beautifulsoup4-4.11.1-py3-none-any.whl (128 kB)\n",
            "\u001b[K     |████████████████████████████████| 128 kB 22.5 MB/s \n",
            "\u001b[?25hRequirement already satisfied: requests<3.0.0,>=2.23.0 in /usr/local/lib/python3.7/dist-packages (from deep_translator) (2.23.0)\n",
            "Requirement already satisfied: soupsieve>1.2 in /usr/local/lib/python3.7/dist-packages (from beautifulsoup4<5.0.0,>=4.9.1->deep_translator) (2.3.2.post1)\n",
            "Requirement already satisfied: certifi>=2017.4.17 in /usr/local/lib/python3.7/dist-packages (from requests<3.0.0,>=2.23.0->deep_translator) (2022.6.15)\n",
            "Requirement already satisfied: chardet<4,>=3.0.2 in /usr/local/lib/python3.7/dist-packages (from requests<3.0.0,>=2.23.0->deep_translator) (3.0.4)\n",
            "Requirement already satisfied: idna<3,>=2.5 in /usr/local/lib/python3.7/dist-packages (from requests<3.0.0,>=2.23.0->deep_translator) (2.10)\n",
            "Requirement already satisfied: urllib3!=1.25.0,!=1.25.1,<1.26,>=1.21.1 in /usr/local/lib/python3.7/dist-packages (from requests<3.0.0,>=2.23.0->deep_translator) (1.24.3)\n",
            "Installing collected packages: beautifulsoup4, deep-translator\n",
            "  Attempting uninstall: beautifulsoup4\n",
            "    Found existing installation: beautifulsoup4 4.6.3\n",
            "    Uninstalling beautifulsoup4-4.6.3:\n",
            "      Successfully uninstalled beautifulsoup4-4.6.3\n",
            "Successfully installed beautifulsoup4-4.11.1 deep-translator-1.8.3\n",
            "Looking in indexes: https://pypi.org/simple, https://us-python.pkg.dev/colab-wheels/public/simple/\n",
            "Requirement already satisfied: nltk in /usr/local/lib/python3.7/dist-packages (3.7)\n",
            "Requirement already satisfied: joblib in /usr/local/lib/python3.7/dist-packages (from nltk) (1.1.0)\n",
            "Requirement already satisfied: tqdm in /usr/local/lib/python3.7/dist-packages (from nltk) (4.64.0)\n",
            "Requirement already satisfied: click in /usr/local/lib/python3.7/dist-packages (from nltk) (7.1.2)\n",
            "Requirement already satisfied: regex>=2021.8.3 in /usr/local/lib/python3.7/dist-packages (from nltk) (2022.6.2)\n"
          ]
        },
        {
          "output_type": "stream",
          "name": "stderr",
          "text": [
            "[nltk_data] Downloading package punkt to /root/nltk_data...\n",
            "[nltk_data]   Unzipping tokenizers/punkt.zip.\n"
          ]
        },
        {
          "output_type": "execute_result",
          "data": {
            "text/plain": [
              "True"
            ]
          },
          "metadata": {},
          "execution_count": 6
        }
      ],
      "source": [
        "!pip3 install pdfminer3\n",
        "!pip3 install deep_translator\n",
        "!pip3 install nltk\n",
        "import nltk\n",
        "nltk.download('punkt')"
      ]
    },
    {
      "cell_type": "code",
      "source": [
        "from pdfminer3.layout import LAParams, LTTextBox\n",
        "from pdfminer3.pdfpage import PDFPage\n",
        "from pdfminer3.pdfinterp import PDFResourceManager\n",
        "from pdfminer3.pdfinterp import PDFPageInterpreter\n",
        "from pdfminer3.converter import PDFPageAggregator\n",
        "from pdfminer3.converter import TextConverter\n",
        "import io\n",
        "\n",
        "resource_manager = PDFResourceManager()\n",
        "fake_file_handle = io.StringIO()\n",
        "converter = TextConverter(resource_manager, fake_file_handle, laparams=LAParams())\n",
        "page_interpreter = PDFPageInterpreter(resource_manager, converter)\n",
        "\n",
        "with open('translated_text.pdf', 'rb') as fh:\n",
        "\n",
        "    for page in PDFPage.get_pages(fh,\n",
        "                                  caching=True,\n",
        "                                  check_extractable=True):\n",
        "        page_interpreter.process_page(page)\n",
        "\n",
        "    text = fake_file_handle.getvalue()\n",
        "\n",
        "# close open handles\n",
        "converter.close()\n",
        "fake_file_handle.close()\n",
        "\n",
        "print(text)"
      ],
      "metadata": {
        "colab": {
          "base_uri": "https://localhost:8080/"
        },
        "id": "mLvJj3_9zP_z",
        "outputId": "89b21489-3654-4793-8727-78e3840e48f6"
      },
      "execution_count": 10,
      "outputs": [
        {
          "output_type": "stream",
          "name": "stdout",
          "text": [
            "transliterated\n",
            "\n",
            "word\n",
            "\n",
            "राज्य\n",
            "\n",
            "प्रदेश\n",
            "\n",
            "मध्य\n",
            "\n",
            "महाराष्ट्\n",
            "\n",
            "હિમતનગર\n",
            "\n",
            "સુરત\n",
            "\n",
            "माखन स िंह\n",
            "\n",
            "मध स िंह\n",
            "\n",
            "ಕುಂದನ್\n",
            "\n",
            "मधु स िंह\n",
            "\n",
            "ഗ്രാമ\n",
            "\n",
            "ന്യായാലയ\n",
            "\n",
            "ಮತತತಮಮ\n",
            "\n",
            "ಕಡತವನನ \n",
            "\n",
            "নাম\n",
            "\n",
            "আমম\n",
            "\n",
            "ভাল া\n",
            "\n",
            "আমি\n",
            "\n",
            "আকাশ\n",
            "\n",
            "অমনরুদ্ধ\n",
            "\n",
            "जहािंगीर\n",
            "\n",
            "मृत्यु\n",
            "\n",
            "असधसनयम\n",
            "\n",
            "हसियार\n",
            "\n",
            "तनय\n",
            "\n",
            "वीरे न्द्र कु मार \n",
            "\n",
            "बनाम\n",
            "\n",
            "रािंची\n",
            "\n",
            "पुष्पा\n",
            "\n",
            "गणेशराम लेयािंगी\n",
            "\n",
            "\f\n"
          ]
        }
      ]
    },
    {
      "cell_type": "code",
      "source": [
        "from nltk.tokenize import sent_tokenize\n",
        "from deep_translator import GoogleTranslator\n",
        "from tqdm import tqdm\n",
        "sentences=sent_tokenize(text, language = \"english\")\n",
        "translated_sentences = []\n",
        "t_s = ''\n",
        "translate = GoogleTranslator(source='auto', target='en').translate\n",
        "for i in tqdm(range(len(sentences))):\n",
        "  t_s = t_s + translate(sentences[i])"
      ],
      "metadata": {
        "colab": {
          "base_uri": "https://localhost:8080/"
        },
        "id": "TjUfCyvRzTnx",
        "outputId": "aea85473-9bd3-4c6e-aeb0-3268cf10467d"
      },
      "execution_count": 11,
      "outputs": [
        {
          "output_type": "stream",
          "name": "stderr",
          "text": [
            "100%|██████████| 1/1 [00:01<00:00,  1.46s/it]\n"
          ]
        }
      ]
    },
    {
      "cell_type": "code",
      "source": [
        "print(t_s)"
      ],
      "metadata": {
        "colab": {
          "base_uri": "https://localhost:8080/"
        },
        "id": "jY70eYnjzZY9",
        "outputId": "736751c1-94e4-4bbe-88b7-2465ff3bdce7"
      },
      "execution_count": 12,
      "outputs": [
        {
          "output_type": "stream",
          "name": "stdout",
          "text": [
            "transliterated\n",
            "\n",
            "word\n",
            "\n",
            "State\n",
            "\n",
            "Province\n",
            "\n",
            "Middle\n",
            "\n",
            "Maharashtra\n",
            "\n",
            "હિમતનગર\n",
            "\n",
            "સુરત\n",
            "\n",
            "Makhan Singh\n",
            "\n",
            "Madha Singh\n",
            "\n",
            "ಕುಂದನ್\n",
            "\n",
            "Madhu Singh\n",
            "\n",
            "ഗ്രാമ\n",
            "\n",
            "ന്യായാലയ\n",
            "\n",
            "ಮತತಮಮ\n",
            "\n",
            "ಕಡತವನನ\n",
            "\n",
            "Name\n",
            "\n",
            "Amm\n",
            "\n",
            "Good s\n",
            "\n",
            "We're the ones\n",
            "\n",
            "The sky\n",
            "\n",
            "Amanrudha\n",
            "\n",
            "Jahaingir\n",
            "\n",
            "death\n",
            "\n",
            "Asadhsanayam\n",
            "\n",
            "Hasiyar\n",
            "\n",
            "son\n",
            "\n",
            "Virender Kumar\n",
            "\n",
            "vs. the\n",
            "\n",
            "Rainchi\n",
            "\n",
            "Pushpa\n",
            "\n",
            "Ganeshram Leyangi\n"
          ]
        }
      ]
    }
  ]
}